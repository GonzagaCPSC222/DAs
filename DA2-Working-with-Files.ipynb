{
 "cells": [
  {
   "cell_type": "markdown",
   "metadata": {},
   "source": [
    "# [CPSC 222](https://github.com/GonzagaCPSC222) Intro to Data Science\n",
    "[Gonzaga University](https://www.gonzaga.edu/)\n",
    "\n",
    "[Gina Sprint](http://cs.gonzaga.edu/faculty/sprint/)\n",
    "## DA2 Working with Files (75 pts)\n",
    "\n",
    "## Learner Objectives\n",
    "At the conclusion of this programming assignment, participants should be able to:\n",
    "* Define and call functions\n",
    "* Open a CSV file\n",
    "* Create and work with 2D lists\n",
    "\n",
    "## Prerequisites\n",
    "Before starting this programming assignment, participants should be able to:\n",
    "* Work with loops, 1D lists, and user input\n",
    "* Compute standard summary statistics\n",
    "* Submit assignments via Github Classroom\n",
    "\n",
    "## Acknowledgments\n",
    "Content used in this assignment is based upon information in the following sources:\n",
    "* None"
   ]
  },
  {
   "cell_type": "markdown",
   "metadata": {},
   "source": [
    "## Github Classroom Setup\n",
    "For this assignment, you will use GitHub Classroom to create a private code repositories to track code changes and submit your assignment. Open this DA2 link to accept the assignment and create a private repository for your assignment in Github classroom: https://classroom.github.com/a/7VFCi5Hk\n",
    "\n",
    "Your repo, for example, will be named GonzagaCPSC222/da2-yourusername (where yourusername is your Github username). I highly recommend committing/pushing regularly so your work is always backed up. We will grade your most recent commit, even if that commit is after the due date (your work will be marked late if this is the case)."
   ]
  },
  {
   "cell_type": "markdown",
   "metadata": {},
   "source": [
    "## Programming (45 pts)\n",
    "Write a program to open a CSV file, load its data, and summarize its data. The program opens fitbit_data.csv and computes statistics for user-entered columns (AKA attributes). Like DA1, each statistic should have an informative string label displayed in front of it and should be rounded to 2 decimals places. Check your answers against a desk check (compute the stats by hand) and/or using Excel. The only module you may use for this assignment is the `math` module... that means no `numpy`, `scipy`, `pandas`, etc...)\n",
    "\n",
    "### Download the Data\n",
    "Download the fitbit_data.csv file from the DAs repo on Github: https://github.com/GonzagaCPSC222/DAs/blob/master/files/fitbit_data_3-8_9-16.csv. One way to download the data is to click \"Raw\" then right click on the page and click \"Save As.\" Move this data file to be in the same folder as your local DA2 Git repo. This is my own data that I downloaded from the Fitbit website. It has my daily exercise data from 3/8/21 (the day I started training for a half-marathon) to 9/16/21. I encourage you to open this file up in Excel and become familiar with its header row (column labels) and data. For example, by inspecting the data in Excel, can you tell:\n",
    "1. When spring 2021 semester ended?\n",
    "1. When fall 2021 semester started?\n",
    "1. When I ran the half-marathon? (BTW, that was my first half-marathon!)\n",
    "1. When I ran the full marathon? (BTW, that was my first marathon!)\n",
    "\n",
    "If you are interested, I *roughly* followed this [\"Novice 1 Half-Marathon Training Plan\"](https://www.halhigdon.com/training-programs/half-marathon-training/novice-1-half-marathon/) and this [\"Novice 1 Marathon Training Plan\"](https://www.halhigdon.com/training-programs/marathon-training/novice-1-marathon/)\n",
    "\n",
    "### Setup your Code\n",
    "This program should be modular, meaning it is decomposed into well-designed functions. With your DA2 Git repo open in VS Code, create two Python files: utils.py and main.py. utils.py will contain our \"utility functions\" that are resuable. main.py will contain our code that calls the utility functions. I'll clearly label which functions are utility functions below :)\n",
    "\n",
    "### Required Functions\n",
    "In utils.py, define your stats functions and data functions. There should be at least a function for the mean, standard deviation, and median/smallest/largest (these can be combined into one function if you'd like). In addition to these stats functions, additional required functions include the following data functions:\n",
    "1. `def read_data(filename)`\n",
    "    1. Opens `filename` for reading and loads the column names into a 1D list called `header` and loads the data into a 2D list called `data`\n",
    "    1. Returns `header` and `data`\n",
    "1. `def display_table(header, data)`\n",
    "    1. Displays the header row and the data in a grid-like table format\n",
    "    1. Do the best you can to try and line up your data for easy reading. Using tabs (\\t) can be quite helpful!\n",
    "1. `def get_column(header, col_name, data)`\n",
    "    1. Returns a 1D list representing the column named `col_name` in `data`\n",
    "    1. For example, `get_column(header, \"Steps\", data)` would return the 1D list with only the daily steps data (be sure to maintain the original order)\n",
    "\n",
    "main.py will exercise the above functions. In main.py, `import utils` to gain access to the following functions (call your functions with `utils.read_data(\"fitbit_data.csv\")`, etc.). Define a `main()` function that prompts the user for a column name to compute stats for. Show the following stats for the user-entered column:\n",
    "1. Count of the numbers\n",
    "1. Average (mean) of the numbers\n",
    "1. Standard deviation of the numbers ([link to formula](https://www.mathsisfun.com/data/standard-deviation-formulas.html))\n",
    "1. Median number\n",
    "1. Smallest number\n",
    "1. Largest number\n",
    "Feel free to define additional functions as you see fit! Remember, one function = one task = one algorithm. Each task should be solved by one algorithm and implemented in its own function. Functions are reusable pieces of code and defining functions now can save you time later :)\n",
    "\n",
    "### Bonus (5 pts)\n",
    "Define and call a function, `def slice_column(date_col, col, start_date, end_date)`, that returns a sub-list of `col` from `start_date` (inclusive) to `end_date` exclusive. `date_col` is a list of dates and is the same length as `col`. Use this function to answer these research questions: \n",
    "1. Did my exercise patterns change once I finished the marathon?\n",
    "1. Did my exercise patterns change once the fall semester started? \n",
    "\n",
    "Include your answers to these questions in a comment near the `slice_column()` function."
   ]
  },
  {
   "cell_type": "markdown",
   "metadata": {},
   "source": [
    "## Project Part 2 (15 pts)\n",
    "For one of your three data sources from DA1 Project Part 1, download a CSV file of your data and include it in your Git repo. Open the file in Excel and trim/fix the data (using Excel) to the point where it can be opened up from Python using your `read_data()` function. Use the fitbit_data.csv as a template to help you structure/clean your data so it is in a similar form. In a file called project_part2.py, `import utils` to gain access to functions you wrote for the programming portion of this assignment. Document any issues or questions you have working with your data in comment blocks in project_part2.py. Hopefully you can get your data open and start playing with it in Python!!"
   ]
  },
  {
   "cell_type": "markdown",
   "metadata": {},
   "source": [
    "## Data Ethics (15 pts)\n",
    "Read ['Have You Thought About . . .': Talking About Ethical Implications of Research](https://cacm.acm.org/opinion/have-you-thought-about/). This article was published in a 2020 issue of The Communications of the ACM. For background, research is the systematic investigation into and study of materials and sources in order to establish facts and reach new conclusions. In this class, we are starting our own foray into research via the \"Quantified Self\" course project. We can use this project for context to start thinking about the implications of conducting research.\n",
    "\n",
    "Please read the article directly and resist the urge to use AI to summarize it. Also, while I don't mind if you use AI to work with you to brainstorm ideas, **please do not outsource your thinking and writing to AI**. If you do use AI in any capacity, you must cite your use of it.\n",
    "\n",
    "In a **PDF document called ethics.pdf**, provide your reflection on the following discussion points:\n",
    "1. Besides the examples given in the article, describe a new technology that has been released since the articles was written in 2020 that you are concerned may do more harm than good for the world. Cite at least one recent and relevant article related to this technology.\n",
    "1. Have you been in a situation where you were concerned someone you know was conducting research or building something that may have questionable implications? Please describe the experience and remove any personally identifiable information.\n",
    "1. As you've started looking into possible data sources for the projects, have you been surprised by the amount of and/or type of data organizations have been collecting about you? Or was it as you expected? Are there any potential uses of your personal data that you would be concerned about someone (including yourself!) researching?\n",
    "1. What else struck you about this article?\n",
    "\n",
    "Your reflection write-up should be written using full sentences and should be grammaticallly correct. Proof read your writing before you submit it!!"
   ]
  },
  {
   "cell_type": "markdown",
   "metadata": {},
   "source": [
    "## Submitting Assignments\n",
    "1. Turn in your assignment files via a Github Classroom repo. See the \"Github Classroom Setup\" section at the beginning of this document for details on how to do this.\n",
    "    1. Your repo should contain all of the files needed to run and test your solution (e.g. .py file(s), input files, etc.).\n",
    "    1. Double-check that this is the case by \"pretending to be the grader\": clone (or download a zip) your submission repo and run your code like when we grade it.\n",
    "1. Submit this PA’s associated assignment in Canvas to mark your PA as \"done\" and ready for grading. We will then pull your Github repo and grade your PA as soon as possible. The date and time you submit the PA assignment in Canvas will be used for marking your assignment as \"late\" or \"on-time.\""
   ]
  },
  {
   "cell_type": "markdown",
   "metadata": {},
   "source": [
    "## Grading Guidelines\n",
    "Your assignment will be evaluated based on a successful execution using the Anaconda Python Distribution (Python v3.12) from command line (e.g., with `python main.py`) and adherence to the program requirements. We will grade according to the following criteria:\n",
    "* 5 pts for code organization between main.py and utils.py\n",
    "* 5 pts for correct `read_data()`\n",
    "* 5 pts for correct `display_table()`\n",
    "* 10 pts for correct `get_column()`\n",
    "* 10 pts for correct stats functions\n",
    "* 5 pts for prompting the user for a column name and displaying column stats\n",
    "* 5 pts for adherence to course [coding standard](https://nbviewer.jupyter.org/github/GonzagaCPSC222/DAs/blob/master/Coding%20Standard.ipynb)\n",
    "* 15 pts for including a CSV of your own data and code to open it in project_part2.py\n",
    "* 15 pts for quality, clarity, and creativity in the data ethics write-up"
   ]
  }
 ],
 "metadata": {
  "anaconda-cloud": {},
  "kernelspec": {
   "display_name": "Python 3 (ipykernel)",
   "language": "python",
   "name": "python3"
  },
  "language_info": {
   "codemirror_mode": {
    "name": "ipython",
    "version": 3
   },
   "file_extension": ".py",
   "mimetype": "text/x-python",
   "name": "python",
   "nbconvert_exporter": "python",
   "pygments_lexer": "ipython3",
   "version": "3.9.7"
  }
 },
 "nbformat": 4,
 "nbformat_minor": 4
}
