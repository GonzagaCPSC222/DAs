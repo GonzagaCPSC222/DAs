{
 "cells": [
  {
   "cell_type": "markdown",
   "metadata": {},
   "source": [
    "## DA8 is the quantified self project you've been working on since the start of the semester (first introduced on DA1).\n",
    "\n",
    "## Please see the [Project](https://drive.google.com/drive/folders/1FGlqUebOjL83MFOWHZs7dqKtHWO0qGDY?usp=drive_link) folder on [Google Drive](https://drive.google.com/drive/u/0/folders/1QXosDkeIf4Hnpzw03lR0hpZa3WmbbbUo) for project details."
   ]
  }
 ],
 "metadata": {
  "anaconda-cloud": {},
  "kernelspec": {
   "display_name": "Python 3 (ipykernel)",
   "language": "python",
   "name": "python3"
  },
  "language_info": {
   "codemirror_mode": {
    "name": "ipython",
    "version": 3
   },
   "file_extension": ".py",
   "mimetype": "text/x-python",
   "name": "python",
   "nbconvert_exporter": "python",
   "pygments_lexer": "ipython3",
   "version": "3.9.7"
  }
 },
 "nbformat": 4,
 "nbformat_minor": 4
}
